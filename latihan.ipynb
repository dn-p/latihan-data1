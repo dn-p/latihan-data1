{
 "cells": [
  {
   "cell_type": "markdown",
   "metadata": {},
   "source": []
  },
  {
   "cell_type": "code",
   "execution_count": null,
   "metadata": {},
   "outputs": [],
   "source": [
    "import pandas as pd\n",
    "import re\n",
    "import numpy as np"
   ]
  },
  {
   "cell_type": "code",
   "execution_count": null,
   "metadata": {},
   "outputs": [],
   "source": [
    "df = pd.read_csv(r\"C:\\Users\\A\\Documents\\Latihan Cleaning\\Copy of Data Science pertemuan 1 (Responses) - Form Responses 1.csv\")"
   ]
  },
  {
   "cell_type": "code",
   "execution_count": null,
   "metadata": {},
   "outputs": [],
   "source": [
    "def clean_residence(value):\n",
    "    value = str(value).lower()  # Ubah ke huruf kecil agar seragam\n",
    "    \n",
    "    if \"rumah\" in value:\n",
    "        return \"Rumah\"\n",
    "    elif \"kost\" in value or \"kos\" in value:\n",
    "        return \"Kost\"\n",
    "    elif \"kantor\" in value or \"mess\" in value:\n",
    "        return \"Mess/Kantor\"\n",
    "    else:\n",
    "        return \"Lainnya\"\n",
    "\n",
    "df['Tinggal dirumah / kost ?'] = df['Tinggal dirumah / kost ?'].apply(clean_residence)"
   ]
  },
  {
   "cell_type": "code",
   "execution_count": null,
   "metadata": {},
   "outputs": [],
   "source": [
    "print(df['Tinggal dirumah / kost ?'].value_counts())"
   ]
  },
  {
   "cell_type": "code",
   "execution_count": null,
   "metadata": {},
   "outputs": [],
   "source": [
    "def clean_transport(transport):\n",
    "    transport = transport.lower().strip()\n",
    "    \n",
    "    if any(x in transport for x in ['motor', 'sepeda', 'kendaraan roda 2', 'kendaraan bermotor']):\n",
    "        return 'Motor'\n",
    "    elif any(x in transport for x in ['jalan kaki', 'sikel']):\n",
    "        return 'Jalan Kaki'\n",
    "    elif any(x in transport for x in ['mobil', 'kendaraan pribadi']):\n",
    "        return 'Mobil'\n",
    "    elif any(x in transport for x in ['grab', 'gojek', 'maxim', 'transmusi']):\n",
    "        return 'Transportasi Online'\n",
    "    else:\n",
    "        return 'Lainnya'\n",
    "\n",
    "df['Jenis Transportasi'] = df['Apa jenis transportasi yang biasa Anda gunakan untuk pergi ke Kampus?'].apply(clean_transport)"
   ]
  },
  {
   "cell_type": "code",
   "execution_count": null,
   "metadata": {},
   "outputs": [],
   "source": [
    "print(df['Jenis Transportasi'].value_counts())"
   ]
  },
  {
   "cell_type": "code",
   "execution_count": null,
   "metadata": {},
   "outputs": [],
   "source": [
    "def clean_sleep_hours(sleep):\n",
    "    sleep = str(sleep).lower().strip()\n",
    "    \n",
    "    # Jika mengandung kata tidak tentu atau sejenisnya, anggap NaN\n",
    "    if any(x in sleep for x in ['tidak tentu', 'belum tentu']):\n",
    "        return np.nan\n",
    "\n",
    "    # Ambil semua angka dari string\n",
    "    numbers = re.findall(r'\\d+', sleep)\n",
    "    numbers = list(map(int, numbers))\n",
    "\n",
    "    if len(numbers) == 1:\n",
    "        return numbers[0]  # Jika hanya satu angka, langsung gunakan\n",
    "    elif len(numbers) > 1:\n",
    "        return sum(numbers) / len(numbers)  # Jika rentang, ambil rata-rata\n",
    "    else:\n",
    "        return np.nan  # Jika tidak ada angka, anggap NaN\n",
    "\n",
    "df['Jam Tidur'] = df['Berapa jam tidur yang Anda dapatkan setiap malam pada hari kuliah?'].apply(clean_sleep_hours)\n"
   ]
  },
  {
   "cell_type": "code",
   "execution_count": null,
   "metadata": {},
   "outputs": [],
   "source": [
    "print(df['Jam Tidur'].value_counts())"
   ]
  },
  {
   "cell_type": "code",
   "execution_count": null,
   "metadata": {},
   "outputs": [],
   "source": [
    "def categorize_study_hours(value):\n",
    "    try:\n",
    "        num_hours = float(str(value).replace(\" jam\", \"\").replace(\",\", \".\"))  # Convert ke float\n",
    "        if num_hours < 1:\n",
    "            return \"<1 jam\"\n",
    "        elif 1 <= num_hours <= 2:\n",
    "            return \"1 - 2 jam\"\n",
    "        elif 3 <= num_hours <= 4:\n",
    "            return \"3 - 4 jam\"\n",
    "        else:\n",
    "            return \">4 jam\"\n",
    "    except:\n",
    "        return \"Lainnya\"  # Untuk yang tidak bisa dikonversi ke angka\n",
    "\n",
    "df[\"Berapa jam belajar di luar jam kuliah setiap harinya?\"] = df[\"Berapa jam belajar di luar jam kuliah setiap harinya?\"].apply(categorize_study_hours)"
   ]
  },
  {
   "cell_type": "code",
   "execution_count": null,
   "metadata": {},
   "outputs": [],
   "source": [
    "print(df[\"Berapa jam belajar di luar jam kuliah setiap harinya?\"].value_counts())"
   ]
  },
  {
   "cell_type": "code",
   "execution_count": null,
   "metadata": {},
   "outputs": [],
   "source": [
    "bins = [0, 17, 24, 31, 40, 100] \n",
    "labels = [\"<17\", \"17-24\", \"25-31\", \"32-40\", \"40+\"]  "
   ]
  },
  {
   "cell_type": "code",
   "execution_count": null,
   "metadata": {},
   "outputs": [],
   "source": [
    "df[\"Kategori Umur\"] = pd.cut(df['Umur Anda (tulis angka saja)'], bins=bins, labels=labels, right=True)\n",
    "print(df[['Umur Anda (tulis angka saja)', \"Kategori Umur\"]])\n",
    "print(df['Umur Anda (tulis angka saja)'])"
   ]
  },
  {
   "cell_type": "code",
   "execution_count": null,
   "metadata": {},
   "outputs": [],
   "source": [
    "def convert_to_minutes(time_str):\n",
    "    time_str = str(time_str).lower()  # Ubah ke huruf kecil\n",
    "    numbers = re.findall(r'\\d+', time_str)  # Cari semua angka\n",
    "\n",
    "    if not numbers:  \n",
    "        return None  # Jika tidak ada angka, return None\n",
    "\n",
    "    numbers = list(map(int, numbers))  # Konversi ke integer\n",
    "    \n",
    "    if \"jam\" in time_str:\n",
    "        jam = numbers[0]\n",
    "        menit = numbers[1] if len(numbers) > 1 else 0  # Jika tidak ada menit, anggap 0\n",
    "        return jam * 60 + menit  # Konversi ke menit\n",
    "\n",
    "    return numbers[0]  # Jika hanya angka tanpa \"jam\", anggap dalam menit\n",
    "\n",
    "# Pastikan df sudah ada sebelum kode ini dijalankan\n",
    "df['Waktu Tempuh (Menit)'] = df['Berapa lama waktu tempuh dari rumah ke kampus?'].apply(convert_to_minutes)"
   ]
  },
  {
   "cell_type": "code",
   "execution_count": null,
   "metadata": {},
   "outputs": [],
   "source": [
    "print(df[['Berapa lama waktu tempuh dari rumah ke kampus?', 'Waktu Tempuh (Menit)']])"
   ]
  },
  {
   "cell_type": "code",
   "execution_count": null,
   "metadata": {},
   "outputs": [],
   "source": [
    "# waktu belajar\n",
    "\n",
    "#ubah format waktu belajar ke menit\n",
    "def convert_learning_time(time_str):\n",
    "    time_str = str(time_str).lower()  # Ubah ke string dan lowercase\n",
    "    numbers = re.findall(r'\\d+', time_str)  # Ambil angka dari string\n",
    "\n",
    "    if not numbers:  # Jika tidak ada angka, kembalikan NaN\n",
    "        return None  \n",
    "\n",
    "    if 'jam' in time_str:  # Jika ada kata 'jam'\n",
    "        jam = int(numbers[0])  # Ambil angka pertama sebagai jam\n",
    "        menit = int(numbers[1]) if len(numbers) > 1 else 0  # Jika ada angka kedua, anggap sebagai menit\n",
    "        return jam * 60 + menit  # Konversi ke menit\n",
    "\n",
    "    elif 'menit' in time_str or len(numbers) == 1:  \n",
    "        return int(numbers[0])  # Anggap langsung dalam menit\n",
    "\n",
    "    return None  # Jika tidak cocok dengan format di atas\n",
    "\n",
    "# Terapkan fungsi pada kolom target\n",
    "df['Waktu Belajar (Menit)'] = df['Berapa jam belajar di luar jam kuliah setiap harinya?'].apply(convert_learning_time)\n",
    "\n"
   ]
  },
  {
   "cell_type": "code",
   "execution_count": null,
   "metadata": {},
   "outputs": [],
   "source": [
    "print(df[['Berapa jam belajar di luar jam kuliah setiap harinya?', 'Waktu Belajar (Menit)']])"
   ]
  },
  {
   "cell_type": "code",
   "execution_count": null,
   "metadata": {},
   "outputs": [],
   "source": [
    "df = df.dropna(subset=['Waktu Belajar (Menit)'])\n",
    "df['Waktu Belajar (Menit)'] = df['Waktu Belajar (Menit)'].astype(int)\n",
    "print(df['Waktu Belajar (Menit)'])"
   ]
  },
  {
   "cell_type": "code",
   "execution_count": null,
   "metadata": {},
   "outputs": [],
   "source": [
    "def clean_club(value):\n",
    "    # Standarisasi teks (huruf kecil semua)\n",
    "    value = str(value).lower()\n",
    "\n",
    "    # Mapping typo ke nama yang benar\n",
    "    replacements = {\n",
    "        \"digiepreneur\": \"digipreneur\",\n",
    "        \"digipreanur\": \"digipreneur\",\n",
    "        \"digiprener\": \"digipreneur\",\n",
    "        \"digipreneur club\": \"digipreneur\",\n",
    "        \"codingan\": \"coding\",\n",
    "        \"club fotografi\": \"fotografi\",\n",
    "        \"photografi\": \"fotografi\",\n",
    "        \"photography\": \"fotografi\",\n",
    "        \"club esport\": \"esport\",\n",
    "        \"e sport\": \"esport\",\n",
    "        \"club coding\": \"coding\",\n",
    "        \"iya, coding\": \"coding\",\n",
    "        \"ya, coding\": \"coding\",\n",
    "        \"iya\": \"lainnya\",\n",
    "        \"ya\": \"lainnya\",\n",
    "        \"coding club\": \"coding\",\n",
    "        \"ya, IOT dan coding\": \"iot, coding\",\n",
    "        \"pbc\": \"lainnya\",\n",
    "        \"broadcasting club\": \"broadcasting\",\n",
    "        \"club broadcasting\": \"broadcasting\",\n",
    "        \"cinecomtech\": \"cinecomtech\"\n",
    "    }\n",
    "\n",
    "    # Standarisasi typo\n",
    "    for typo, correct in replacements.items():\n",
    "        if typo in value:\n",
    "            return correct\n",
    "\n",
    "    # Jika ada lebih dari satu club yang valid, pisahkan\n",
    "    valid_clubs = {\"esport\", \"coding\", \"digipreneur\", \"cinecomtech\", \"broadcasting\", \"iot\", \"fotografi\"}\n",
    "    result = [club for club in valid_clubs if club in value]\n",
    "\n",
    "    if result:\n",
    "        return \", \".join(result)  # Gabungkan jika ada lebih dari satu club\n",
    "    elif \"tidak\" in value or \"-\" in value:\n",
    "        return \"tidak\"\n",
    "    else:\n",
    "        return \"lainnya\"\n",
    "\n",
    "# Terapkan ke dataframe\n",
    "df[\"club_bersih\"] = df[\"Apakah Anda mengikuti kegiatan club? Jika ya, sebutkan kegiatannya\"].apply(clean_club)"
   ]
  },
  {
   "cell_type": "code",
   "execution_count": null,
   "metadata": {},
   "outputs": [],
   "source": [
    "print(df[\"club_bersih\"].value_counts())"
   ]
  },
  {
   "cell_type": "code",
   "execution_count": null,
   "metadata": {},
   "outputs": [],
   "source": [
    "def clean_stress(value):\n",
    "    value = str(value).lower().strip()\n",
    "\n",
    "    # Mapping kategori stres\n",
    "    sangat_sering = [\"sangat sering\", \"setiap hari\", \"selalu\", \"setiap saat\", \"hampir setiap hari\"]\n",
    "    sering = [\"sering\", \"sering banget\", \"cukup sering\", \"lumayan sering\", \"sering sekali\", \"sering stres\"]\n",
    "    kadang_kadang = [\"kadang\", \"kadang-kadang\", \"kadang kadang\", \"terkadang\"]\n",
    "    jarang = [\"jarang\", \"cukup jarang\"]\n",
    "    tidak_pernah = [\"tidak pernah\", \"tidak\", \"tidak terlalu\", \"tidak terlalu sering\", \"tidak sering\"]\n",
    "\n",
    "    # Membersihkan input ke dalam kategori yang sesuai\n",
    "    if value in sangat_sering or \"setiap\" in value:\n",
    "        return \"Sangat Sering\"\n",
    "    elif value in sering or \"banyak tugas\" in value:\n",
    "        return \"Sering\"\n",
    "    elif value in kadang_kadang or \"kadang\" in value:\n",
    "        return \"Kadang-kadang\"\n",
    "    elif value in jarang:\n",
    "        return \"Jarang\"\n",
    "    elif value in tidak_pernah:\n",
    "        return \"Tidak Pernah\"\n",
    "    else:\n",
    "        return \"Lainnya\"  # Untuk jawaban seperti \"mumet\", \"enjoy\", atau yang tidak jelas\n",
    "\n",
    "df[\"stres_bersih\"] = df[\"Seberapa sering Anda merasa stres karena kuliah?\"].apply(clean_stress)"
   ]
  },
  {
   "cell_type": "code",
   "execution_count": null,
   "metadata": {},
   "outputs": [],
   "source": [
    "print(df[\"stres_bersih\"].value_counts())"
   ]
  },
  {
   "cell_type": "code",
   "execution_count": null,
   "metadata": {},
   "outputs": [],
   "source": [
    "def clean_friends(value):\n",
    "    value = str(value).lower().strip()\n",
    "\n",
    "    # Mengubah jawaban verbal menjadi angka\n",
    "    if \"banyak\" in value or \"semua\" in value or \"ada banyak\" in value:\n",
    "        return \"Lebih dari 10\"\n",
    "    elif \"tidak ada\" in value or \"ga ada\" in value or \"tidak punya\" in value:\n",
    "        return \"0\"\n",
    "    elif \"1\" in value and not (\"10\" in value or \"15\" in value):\n",
    "        return \"1-5\"\n",
    "    elif \"2\" in value and not (\"20\" in value):\n",
    "        return \"1-5\"\n",
    "    elif \"3\" in value:\n",
    "        return \"1-5\"\n",
    "    elif \"4\" in value:\n",
    "        return \"1-5\"\n",
    "    elif \"5\" in value:\n",
    "        return \"1-5\"\n",
    "    elif \"6\" in value:\n",
    "        return \"6-10\"\n",
    "    elif \"7\" in value:\n",
    "        return \"6-10\"\n",
    "    elif \"8\" in value:\n",
    "        return \"6-10\"\n",
    "    elif \"9\" in value:\n",
    "        return \"6-10\"\n",
    "    elif \"10\" in value or \"+/- 10\" in value or \"lebih krg hampir 10\" in value:\n",
    "        return \"6-10\"\n",
    "    elif \"11\" in value or \"lebih dari 10\" in value:\n",
    "        return \"Lebih dari 10\"\n",
    "    elif \"15\" in value or \"20\" in value or \"30\" in value or \"1000\" in value:\n",
    "        return \"Lebih dari 10\"\n",
    "    else:\n",
    "        return \"Lainnya\"  # Untuk jawaban yang tidak jelas\n",
    "\n",
    "# Terapkan ke dataframe\n",
    "df[\"jumlah_teman_bersih\"] = df[\"Berapa jumlah teman dekat yang Anda miliki di kampus?\"].apply(clean_friends)\n"
   ]
  },
  {
   "cell_type": "code",
   "execution_count": null,
   "metadata": {},
   "outputs": [],
   "source": [
    "print(df[\"jumlah_teman_bersih\"].value_counts())"
   ]
  },
  {
   "cell_type": "code",
   "execution_count": null,
   "metadata": {},
   "outputs": [],
   "source": [
    "def clean_engagement(value):\n",
    "    value = str(value).lower().strip()\n",
    "\n",
    "    # Mapping jawaban ke kategori utama\n",
    "    if \"rendah\" in value:\n",
    "        return \"Rendah\"\n",
    "    elif \"tinggi\" in value or \"cukup tinggi\" in value or \"di atas sedang\" in value:\n",
    "        return \"Tinggi\"\n",
    "    elif \"sedang\" in value or \"lumayan\" in value:\n",
    "        return \"Sedang\"\n",
    "    else:\n",
    "        return \"Lainnya\"  # Untuk jawaban yang tidak jelas atau ambigu\n",
    "\n",
    "df[\"keterlibatan_bersih\"] = df[\"Bagaimana Anda menilai tingkat keterlibatan Anda dalam pembelajaran di kelas ini (rendah, sedang, tinggi)?\"].apply(clean_engagement)"
   ]
  },
  {
   "cell_type": "code",
   "execution_count": null,
   "metadata": {},
   "outputs": [],
   "source": [
    "print(df[\"keterlibatan_bersih\"].value_counts())"
   ]
  },
  {
   "cell_type": "code",
   "execution_count": null,
   "metadata": {},
   "outputs": [],
   "source": [
    "# Hapus kolom lama\n",
    "df.drop(columns=[\n",
    "    \"Bagaimana Anda menilai tingkat keterlibatan Anda dalam pembelajaran di kelas ini (rendah, sedang, tinggi)?\",\n",
    "    \"Berapa jumlah teman dekat yang Anda miliki di kampus?\",\n",
    "    \"Seberapa sering Anda merasa stres karena kuliah?\",\n",
    "    \"Apakah Anda mengikuti kegiatan club? Jika ya, sebutkan kegiatannya\",\n",
    "    \"Apa jenis transportasi yang biasa Anda gunakan untuk pergi ke Kampus?\",\n",
    "    \"Berapa jam belajar di luar jam kuliah setiap harinya?\",\n",
    "    \"Umur Anda (tulis angka saja)\",\n",
    "    \"Berapa lama waktu tempuh dari rumah ke kampus?\",\n",
    "    \"Berapa jam tidur yang Anda dapatkan setiap malam pada hari kuliah?\",\n",
    "    \"Timestamp\",\n",
    "], inplace=True)\n",
    "\n",
    "# Ganti nama kolom bersih ke nama asli\n",
    "df.rename(columns={\n",
    "    \"keterlibatan_bersih\": \"Bagaimana Anda menilai tingkat keterlibatan Anda dalam pembelajaran di kelas ini (rendah, sedang, tinggi)?\",\n",
    "    \"stres_bersih\": \"Seberapa sering Anda merasa stres karena kuliah?\",\n",
    "    \"club_bersih\": \"Apakah Anda mengikuti kegiatan club? Jika ya, sebutkan kegiatannya\",\n",
    "    \"Jenis Transportasi\": \"Apa jenis transportasi yang biasa Anda gunakan untuk pergi ke Kampus?\",\n",
    "    \"Waktu Belajar (Menit)\": \"Berapa jam belajar di luar jam kuliah setiap harinya?\",\n",
    "    \"Kategori Umur\": \"Umur Anda (tulis angka saja)\",\n",
    "    \"Waktu Tempuh (Menit)\": \"Berapa lama waktu tempuh dari rumah ke kampus?\",\n",
    "    \"Jam Tidur\": \"Berapa jam tidur yang Anda dapatkan setiap malam pada hari kuliah?\",\n",
    "    \"jumlah_teman_bersih\": \"Berapa jumlah teman dekat yang Anda miliki di kampus?\", \n",
    "}, inplace=True)\n"
   ]
  },
  {
   "cell_type": "code",
   "execution_count": null,
   "metadata": {},
   "outputs": [],
   "source": [
    "#cek data"
   ]
  },
  {
   "cell_type": "code",
   "execution_count": null,
   "metadata": {},
   "outputs": [],
   "source": [
    "print(df.isna().sum())  # Lihat berapa banyak nilai NaN di tiap kolom"
   ]
  },
  {
   "cell_type": "code",
   "execution_count": null,
   "metadata": {},
   "outputs": [],
   "source": [
    "print(df.dtypes)\n"
   ]
  },
  {
   "cell_type": "code",
   "execution_count": null,
   "metadata": {},
   "outputs": [],
   "source": [
    "print(df)"
   ]
  },
  {
   "cell_type": "code",
   "execution_count": null,
   "metadata": {},
   "outputs": [],
   "source": [
    "df.to_csv('hasil_klasifikasi.csv', index=False)\n",
    "print(\"Data telah di-clean dan disimpan\")"
   ]
  }
 ],
 "metadata": {
  "kernelspec": {
   "display_name": "Python 3",
   "language": "python",
   "name": "python3"
  },
  "language_info": {
   "codemirror_mode": {
    "name": "ipython",
    "version": 3
   },
   "file_extension": ".py",
   "mimetype": "text/x-python",
   "name": "python",
   "nbconvert_exporter": "python",
   "pygments_lexer": "ipython3",
   "version": "3.12.9"
  }
 },
 "nbformat": 4,
 "nbformat_minor": 2
}
